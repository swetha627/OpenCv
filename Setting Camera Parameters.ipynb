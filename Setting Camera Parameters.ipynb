{
 "cells": [
  {
   "cell_type": "code",
   "execution_count": 42,
   "id": "90ee2e65",
   "metadata": {},
   "outputs": [],
   "source": [
    "import cv2"
   ]
  },
  {
   "cell_type": "code",
   "execution_count": 50,
   "id": "769d5098",
   "metadata": {},
   "outputs": [],
   "source": [
    "cap=cv2.VideoCapture(0)"
   ]
  },
  {
   "cell_type": "code",
   "execution_count": 51,
   "id": "8f669257",
   "metadata": {},
   "outputs": [
    {
     "data": {
      "text/plain": [
       "True"
      ]
     },
     "execution_count": 51,
     "metadata": {},
     "output_type": "execute_result"
    }
   ],
   "source": [
    "# every property has a number associated with it\n",
    "cap.set(cv2.CAP_PROP_FRAME_WIDTH, 1208)\n",
    "\n",
    "# width property as number 3 associated with it \n",
    "cap.set(3,1280)\n",
    "\n",
    "#Camera will choose resolution available in the range provided in set() method"
   ]
  },
  {
   "cell_type": "code",
   "execution_count": 52,
   "id": "5578a539",
   "metadata": {},
   "outputs": [
    {
     "data": {
      "text/plain": [
       "True"
      ]
     },
     "execution_count": 52,
     "metadata": {},
     "output_type": "execute_result"
    }
   ],
   "source": [
    "# height property is with the number 4\n",
    "cap.set(4,720)"
   ]
  },
  {
   "cell_type": "code",
   "execution_count": 46,
   "id": "b62528f8",
   "metadata": {},
   "outputs": [
    {
     "name": "stdout",
     "output_type": "stream",
     "text": [
      "1280.0\n",
      "720.0\n"
     ]
    }
   ],
   "source": [
    "# lets print width and height using numbers\n",
    "print(cap.get(3))\n",
    "print(cap.get(4))"
   ]
  },
  {
   "cell_type": "code",
   "execution_count": 53,
   "id": "538e4f33",
   "metadata": {},
   "outputs": [],
   "source": [
    "fourcc=cv2.VideoWriter_fourcc(*'xvid')\n",
    "out=cv2.VideoWriter('output.avi', fourcc, 20.0, (1280, 720))\n",
    "while(True):\n",
    "    ret, frame=cap.read()\n",
    "    out.write(frame)\n",
    "    cv2.imshow('frame', frame)\n",
    "    k=cv2.waitKey(1)\n",
    "    if k==ord('q'):\n",
    "        break\n",
    "cap.release()\n",
    "out.release()\n",
    "cv2.destroyAllWindows()\n"
   ]
  }
 ],
 "metadata": {
  "kernelspec": {
   "display_name": "Python 3",
   "language": "python",
   "name": "python3"
  },
  "language_info": {
   "codemirror_mode": {
    "name": "ipython",
    "version": 3
   },
   "file_extension": ".py",
   "mimetype": "text/x-python",
   "name": "python",
   "nbconvert_exporter": "python",
   "pygments_lexer": "ipython3",
   "version": "3.8.8"
  }
 },
 "nbformat": 4,
 "nbformat_minor": 5
}
