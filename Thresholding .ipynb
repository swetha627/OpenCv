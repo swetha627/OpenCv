{
 "cells": [
  {
   "cell_type": "markdown",
   "id": "2a3db7f9",
   "metadata": {},
   "source": [
    "\n",
    "# Thresholding is a segmentation technique used to separate an image from its background "
   ]
  },
  {
   "cell_type": "code",
   "execution_count": 1,
   "id": "517184b1",
   "metadata": {},
   "outputs": [],
   "source": [
    "# each pixel of the image is compared to predefined threshold value,\n",
    "# divides the input image into two groups:\n",
    "# 1. Background(pixcels having intensity lower than threshold value)\n",
    "# 2. forground(pixcels having intensity high than threshold value)\n",
    "\n"
   ]
  },
  {
   "cell_type": "markdown",
   "id": "af6a78c5",
   "metadata": {},
   "source": [
    "# Global thresholding"
   ]
  },
  {
   "cell_type": "code",
   "execution_count": 1,
   "id": "cc21097b",
   "metadata": {},
   "outputs": [],
   "source": [
    "import cv2\n",
    "import numpy as np"
   ]
  },
  {
   "cell_type": "code",
   "execution_count": null,
   "id": "eacaa5b4",
   "metadata": {},
   "outputs": [],
   "source": [
    "img=cv2.imread('gradient.jfif', 0)\n",
    "img=cv2.resize(img, (512,512))\n",
    "cv2.imshow('image', img)\n",
    "\n",
    "\n",
    "# thresholding types- \n",
    "#     THRESH_BINARY - based on threshold it is classified either as 0 or 1\n",
    "#     THRESH_BINARY_INV -  inverse of THRESH_BINARY \n",
    "#     THRESH_TRUNC - upto threshold the pixel value will remain same as orgignal image, \n",
    "#             after thresold it will be constant through out \n",
    "#    THRESH_TOZERO - if the pixel is less than threshold, it will be assigned zero, else it will remain same\n",
    "#    THRESH_TOZERO_INV- inverse of THRESH_TOZERO\n",
    "\n",
    "\n",
    "# threshold method in cv2 gives two outputs\n",
    "# arguments- source image, threshold value, maximum pixel value, type of thresholding\n",
    "_, th2=cv2.threshold(img, 123, 255, cv2.THRESH_BINARY)\n",
    "cv2.imshow('thresholded2', th2)\n",
    "\n",
    "\n",
    "\n",
    "cv2.waitKey(0)\n",
    "cv2.destroyAllWindows()"
   ]
  },
  {
   "cell_type": "markdown",
   "id": "16405855",
   "metadata": {},
   "source": [
    "# Adaptive thresholding -d/f threshold values "
   ]
  },
  {
   "cell_type": "code",
   "execution_count": null,
   "id": "3f2ca50d",
   "metadata": {},
   "outputs": [],
   "source": [
    "# different threshold values for different regions\n",
    "# why adaptive thresholding: to satify conditions where intenisty in the image changes fron point to point \n"
   ]
  },
  {
   "cell_type": "code",
   "execution_count": 3,
   "id": "7e2378fa",
   "metadata": {},
   "outputs": [],
   "source": [
    "img=cv2.imread('sudoku.jfif',0)\n",
    "img=cv2.resize(img, (212, 212))\n",
    "cv2.imshow('image', img)\n",
    "\n",
    "#_,th1=cv2.threshold(img, 127,255,cv2.THRESH_BINARY)\n",
    "#cv2.imshow('th1', th1)\n",
    "\n",
    "# argu- source image, max pixel value, funaction that calculates threshold, threshold type, block size, consatant c \n",
    "th2=cv2.adaptiveThreshold(img, 255, cv2.ADAPTIVE_THRESH_MEAN_C, cv2.THRESH_BINARY, 11,2)\n",
    "cv2.imshow('th2', th2)\n",
    "\n",
    "th3=cv2.adaptiveThreshold(img, 255, cv2.ADAPTIVE_THRESH_GAUSSIAN_C, cv2.THRESH_BINARY, 11,2)\n",
    "cv2.imshow('th3', th3)\n",
    "\n",
    "cv2.waitKey(0)\n",
    "cv2.destroyAllWindows()"
   ]
  },
  {
   "cell_type": "code",
   "execution_count": null,
   "id": "6fbbab27",
   "metadata": {},
   "outputs": [],
   "source": []
  }
 ],
 "metadata": {
  "kernelspec": {
   "display_name": "Python 3",
   "language": "python",
   "name": "python3"
  },
  "language_info": {
   "codemirror_mode": {
    "name": "ipython",
    "version": 3
   },
   "file_extension": ".py",
   "mimetype": "text/x-python",
   "name": "python",
   "nbconvert_exporter": "python",
   "pygments_lexer": "ipython3",
   "version": "3.8.8"
  }
 },
 "nbformat": 4,
 "nbformat_minor": 5
}
