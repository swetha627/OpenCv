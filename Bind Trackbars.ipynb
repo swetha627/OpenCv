{
 "cells": [
  {
   "cell_type": "markdown",
   "id": "632c2eba",
   "metadata": {},
   "source": [
    "# Trackbars are useful when we want to change the values in the image dynamically at run time"
   ]
  },
  {
   "cell_type": "code",
   "execution_count": 1,
   "id": "0e86e9dd",
   "metadata": {},
   "outputs": [],
   "source": [
    "import cv2\n",
    "import numpy as np"
   ]
  },
  {
   "cell_type": "code",
   "execution_count": 2,
   "id": "4fa3bc88",
   "metadata": {},
   "outputs": [],
   "source": [
    "img=np.zeros((300, 512, 3), np.uint8)"
   ]
  },
  {
   "cell_type": "code",
   "execution_count": 3,
   "id": "8955162c",
   "metadata": {},
   "outputs": [],
   "source": [
    "img1=cv2.imread('lenna.png')\n"
   ]
  },
  {
   "cell_type": "markdown",
   "id": "0b54cd40",
   "metadata": {},
   "source": [
    "# change bgr values of the image using trackbar"
   ]
  },
  {
   "cell_type": "code",
   "execution_count": 17,
   "id": "6abd7a34",
   "metadata": {},
   "outputs": [
    {
     "name": "stdout",
     "output_type": "stream",
     "text": [
      "1\n",
      "51\n",
      "102\n"
     ]
    }
   ],
   "source": [
    "cv2.namedWindow('image') # you can use to create a window with name example: image\n",
    "\n",
    "def nothing(x):\n",
    "    # x- current position of the trackbar\n",
    "    print(x)\n",
    "\n",
    "\n",
    "# args- trackbar name, name of the window, intial value, final value, callback function called after changing the value in the image\n",
    "cv2.createTrackbar('B', 'image', 0, 255, nothing)\n",
    "cv2.createTrackbar('G', 'image', 0, 255, nothing)\n",
    "cv2.createTrackbar('R', 'image', 0, 255, nothing)\n",
    "\n",
    "switch ='0 : OFF 1 : ON'\n",
    "cv2.createTrackbar(switch,'image', 0,1,nothing)\n",
    "\n",
    "while(1):\n",
    "    cv2.imshow('image', img)\n",
    "    k=cv2.waitKey(1)\n",
    "    if k==27:\n",
    "        break\n",
    "    \n",
    "    b=cv2.getTrackbarPos(\"B\", 'image')\n",
    "    g=cv2.getTrackbarPos(\"G\", 'image')\n",
    "    r=cv2.getTrackbarPos(\"R\", 'image')\n",
    "    s=cv2.getTrackbarPos(switch, 'image') # if switch is one- then only color will change \n",
    "    \n",
    "    if s==0:\n",
    "        img[:]=0\n",
    "    else:\n",
    "        img[:]=[b,g,r]\n",
    "\n",
    "cv2.destroyAllWindows()"
   ]
  },
  {
   "cell_type": "code",
   "execution_count": null,
   "id": "3299d283",
   "metadata": {},
   "outputs": [],
   "source": []
  }
 ],
 "metadata": {
  "kernelspec": {
   "display_name": "Python 3",
   "language": "python",
   "name": "python3"
  },
  "language_info": {
   "codemirror_mode": {
    "name": "ipython",
    "version": 3
   },
   "file_extension": ".py",
   "mimetype": "text/x-python",
   "name": "python",
   "nbconvert_exporter": "python",
   "pygments_lexer": "ipython3",
   "version": "3.8.8"
  }
 },
 "nbformat": 4,
 "nbformat_minor": 5
}
