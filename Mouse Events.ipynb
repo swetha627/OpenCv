{
 "cells": [
  {
   "cell_type": "code",
   "execution_count": 10,
   "id": "5e52fdca",
   "metadata": {},
   "outputs": [],
   "source": [
    "import numpy as np\n",
    "import cv2"
   ]
  },
  {
   "cell_type": "code",
   "execution_count": 11,
   "id": "5eadd71e",
   "metadata": {},
   "outputs": [
    {
     "name": "stdout",
     "output_type": "stream",
     "text": [
      "['EVENT_FLAG_ALTKEY', 'EVENT_FLAG_CTRLKEY', 'EVENT_FLAG_LBUTTON', 'EVENT_FLAG_MBUTTON', 'EVENT_FLAG_RBUTTON', 'EVENT_FLAG_SHIFTKEY', 'EVENT_LBUTTONDBLCLK', 'EVENT_LBUTTONDOWN', 'EVENT_LBUTTONUP', 'EVENT_MBUTTONDBLCLK', 'EVENT_MBUTTONDOWN', 'EVENT_MBUTTONUP', 'EVENT_MOUSEHWHEEL', 'EVENT_MOUSEMOVE', 'EVENT_MOUSEWHEEL', 'EVENT_RBUTTONDBLCLK', 'EVENT_RBUTTONDOWN', 'EVENT_RBUTTONUP']\n"
     ]
    }
   ],
   "source": [
    "# dir() is an inbuilt method used for seeing what all there in a library\n",
    "events=[i for i in dir(cv2) if 'EVENT' in i] # if 'EVENT' keyword is there then it is added to list events\n",
    "print(events)"
   ]
  },
  {
   "cell_type": "markdown",
   "id": "5d3117a1",
   "metadata": {},
   "source": [
    "# listening to mouse events"
   ]
  },
  {
   "cell_type": "code",
   "execution_count": 21,
   "id": "8633fa03",
   "metadata": {},
   "outputs": [],
   "source": [
    "#parameters to this call back function are always same\n",
    "def click_event(event, x, y, flags, param): # this call back function takes parameters by default\n",
    "\n",
    "    if event==cv2.EVENT_LBUTTONDOWN:\n",
    "        print(x,\", \",y)\n",
    "        co_ordinate=str(x)+\", \"+str(y)\n",
    "        cv2.putText(img, co_ordinate, (x, y),cv2.FONT_HERSHEY_SIMPLEX, 0.5, (255, 0,0), 2)\n",
    "        cv2.imshow('image',img)\n",
    "    \n",
    "    if event==cv2.EVENT_RBUTTONDOWN:\n",
    "        blue=img[x,y,0]\n",
    "        green=img[x,y,1]\n",
    "        red=img[x,y,2]\n",
    "        co_ordinate=str(blue)+\", \"+str(green)+', '+str(red)\n",
    "        cv2.putText(img, co_ordinate, (x, y),cv2.FONT_HERSHEY_SIMPLEX, 0.5, (0,255,0), 2)\n",
    "        cv2.imshow('image',img)\n",
    "   \n",
    "    \n",
    "img=np.zeros((512, 512, 3), np.uint8) #(512-rows, 512-cols, and 3-chanells)\n",
    "#img=cv2.imread('lenna.png')\n",
    "cv2.imshow('image', img) # same frame name should be passed to the setMouseCallback function\n",
    "\n",
    "points=[] #empty array\n",
    "cv2.setMouseCallback('image',click_event)\n",
    "\n",
    "cv2.waitKey(0)\n",
    "cv2.destroyAllWindows()\n"
   ]
  },
  {
   "cell_type": "markdown",
   "id": "7fadfb47",
   "metadata": {},
   "source": [
    "# Drawing line between two points"
   ]
  },
  {
   "cell_type": "code",
   "execution_count": 24,
   "id": "293aec13",
   "metadata": {},
   "outputs": [],
   "source": [
    "def click_event(event, x, y, flags, param):\n",
    "     if event==cv2.EVENT_LBUTTONDOWN:\n",
    "        # arg - input image, co-ordinates, radius, color, thickness\n",
    "        \n",
    "        cv2.circle(img, (x,y), 3, (255,0,0), -1)\n",
    "        points.append((x,y))\n",
    "        if len(points)>=2:\n",
    "            cv2.line(img,points[-1],points[-2],(0,255,0), 5)\n",
    "        cv2.imshow('image', img)\n",
    "\n",
    "\n",
    "img=np.zeros((512, 512, 3), np.uint8) #(512-rows, 512-cols, and 3-chanells)\n",
    "cv2.imshow('image', img) # same frame name should be passed to the setMouseCallback function\n",
    "\n",
    "points=[] #empty array\n",
    "cv2.setMouseCallback('image',click_event)\n",
    "\n",
    "cv2.waitKey(0)\n",
    "cv2.destroyAllWindows()\n",
    "\n",
    "        \n",
    "    "
   ]
  },
  {
   "cell_type": "code",
   "execution_count": null,
   "id": "58af923a",
   "metadata": {},
   "outputs": [],
   "source": []
  },
  {
   "cell_type": "code",
   "execution_count": null,
   "id": "0caaea49",
   "metadata": {},
   "outputs": [],
   "source": []
  }
 ],
 "metadata": {
  "kernelspec": {
   "display_name": "Python 3",
   "language": "python",
   "name": "python3"
  },
  "language_info": {
   "codemirror_mode": {
    "name": "ipython",
    "version": 3
   },
   "file_extension": ".py",
   "mimetype": "text/x-python",
   "name": "python",
   "nbconvert_exporter": "python",
   "pygments_lexer": "ipython3",
   "version": "3.8.8"
  }
 },
 "nbformat": 4,
 "nbformat_minor": 5
}
