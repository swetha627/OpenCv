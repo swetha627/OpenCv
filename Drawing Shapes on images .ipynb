{
 "cells": [
  {
   "cell_type": "code",
   "execution_count": 1,
   "id": "a006f44b",
   "metadata": {},
   "outputs": [],
   "source": [
    "import cv2"
   ]
  },
  {
   "cell_type": "code",
   "execution_count": 5,
   "id": "688a9b33",
   "metadata": {},
   "outputs": [],
   "source": [
    "img=cv2.imread('lenna.png', 1)\n",
    "\n",
    "# line() funtion takes four agruments:\n",
    "#     1.input image\n",
    "#     2.start co-ordiate\n",
    "#     3.end co-ordinate\n",
    "#     4.color(B, G, R)\n",
    "#     5.thickness\n",
    "img=cv2.line(img, (0,0), (255,255), (0,0,255),5)\n",
    "\n",
    "#arrowed line\n",
    "img=cv2.arrowedLine(img, (0,255), (255,300), (0,0,255),5)\n",
    "\n",
    "#coordinates should be given are:top-left, bottom right \n",
    "#if thickness is -1 then you will get filled rectangle\n",
    "img=cv2.rectangle(img, (384,0), (510, 128), (0,0,255), 10)\n",
    "\n",
    "#(input image, centre of the cicle, radis, color, thickness)\n",
    "img=cv2.circle(img, (447, 63), 63, (0,255, 0), -1)\n",
    "\n",
    "#(input_image, text to be displayed, starting point of text, font type, font size, color of the text, thickenss, line type)\n",
    "img=cv2.putText(img, 'OpenCv', (10, 500),cv2.FONT_HERSHEY_SIMPLEX, 4, (255, 0,0), 5, cv2.LINE_AA)\n",
    "\n",
    "cv2.imshow('image', img)\n",
    "cv2.waitKey(5000)\n",
    "cv2.destroyAllWindows()"
   ]
  },
  {
   "cell_type": "markdown",
   "id": "2de96b81",
   "metadata": {},
   "source": [
    "# Creating image using numpy zero matrix"
   ]
  },
  {
   "cell_type": "code",
   "execution_count": 2,
   "id": "9f960785",
   "metadata": {},
   "outputs": [],
   "source": [
    "import numpy as np"
   ]
  },
  {
   "cell_type": "code",
   "execution_count": 4,
   "id": "fe89ae54",
   "metadata": {},
   "outputs": [],
   "source": [
    "img1=np.zeros([512, 512, 3], np.uint8)\n",
    "img1=cv2.rectangle(img1, (384,0), (510, 128), (0,0,255), 10)\n"
   ]
  },
  {
   "cell_type": "code",
   "execution_count": 5,
   "id": "b08d8f6e",
   "metadata": {},
   "outputs": [],
   "source": [
    "cv2.imshow('img', img1)"
   ]
  },
  {
   "cell_type": "code",
   "execution_count": null,
   "id": "4ffeacff",
   "metadata": {},
   "outputs": [],
   "source": []
  }
 ],
 "metadata": {
  "kernelspec": {
   "display_name": "Python 3",
   "language": "python",
   "name": "python3"
  },
  "language_info": {
   "codemirror_mode": {
    "name": "ipython",
    "version": 3
   },
   "file_extension": ".py",
   "mimetype": "text/x-python",
   "name": "python",
   "nbconvert_exporter": "python",
   "pygments_lexer": "ipython3",
   "version": "3.8.8"
  }
 },
 "nbformat": 4,
 "nbformat_minor": 5
}
