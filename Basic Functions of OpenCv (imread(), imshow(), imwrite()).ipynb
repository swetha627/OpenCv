{
 "cells": [
  {
   "cell_type": "code",
   "execution_count": 1,
   "id": "6fc14b46",
   "metadata": {},
   "outputs": [
    {
     "name": "stdout",
     "output_type": "stream",
     "text": [
      "Requirement already satisfied: opencv-python in c:\\users\\harif\\anaconda3\\lib\\site-packages (4.6.0.66)\n",
      "Requirement already satisfied: numpy>=1.14.5 in c:\\users\\harif\\anaconda3\\lib\\site-packages (from opencv-python) (1.20.1)\n",
      "Note: you may need to restart the kernel to use updated packages.\n"
     ]
    }
   ],
   "source": [
    "pip install opencv-python\n"
   ]
  },
  {
   "cell_type": "code",
   "execution_count": 2,
   "id": "d64f5057",
   "metadata": {},
   "outputs": [],
   "source": [
    "import cv2"
   ]
  },
  {
   "cell_type": "code",
   "execution_count": 3,
   "id": "5a805f0f",
   "metadata": {},
   "outputs": [
    {
     "data": {
      "text/plain": [
       "'4.6.0'"
      ]
     },
     "execution_count": 3,
     "metadata": {},
     "output_type": "execute_result"
    }
   ],
   "source": [
    "cv2.__version__"
   ]
  },
  {
   "cell_type": "markdown",
   "id": "e36a07fc",
   "metadata": {},
   "source": [
    "# Reading images using cv2"
   ]
  },
  {
   "cell_type": "code",
   "execution_count": 3,
   "id": "599fec2f",
   "metadata": {},
   "outputs": [],
   "source": [
    "color_image=cv2.imread('lenna.png',1)"
   ]
  },
  {
   "cell_type": "code",
   "execution_count": 4,
   "id": "08961515",
   "metadata": {},
   "outputs": [],
   "source": [
    "gray_scale=cv2.imread('lenna.png',0)"
   ]
  },
  {
   "cell_type": "code",
   "execution_count": 5,
   "id": "fccca7da",
   "metadata": {},
   "outputs": [],
   "source": [
    "alpha_chanel=cv2.imread('lenna.png',-1)"
   ]
  },
  {
   "cell_type": "markdown",
   "id": "7979fbec",
   "metadata": {},
   "source": [
    "#imread() method does not return error on wrong path/file name\n",
    "#when we print variable, if it returns None then it means that path is wrong"
   ]
  },
  {
   "cell_type": "code",
   "execution_count": 7,
   "id": "f6082c00",
   "metadata": {},
   "outputs": [
    {
     "name": "stdout",
     "output_type": "stream",
     "text": [
      "[[169 169 168 ... 175 162 138]\n",
      " [169 169 168 ... 175 162 138]\n",
      " [169 169 168 ... 175 162 138]\n",
      " ...\n",
      " [ 53  53  59 ... 115 112 114]\n",
      " [ 53  53  64 ... 117 118 122]\n",
      " [ 53  53  64 ... 117 118 122]]\n"
     ]
    }
   ],
   "source": [
    "print(gray_scale)"
   ]
  },
  {
   "cell_type": "markdown",
   "id": "4afc6d5c",
   "metadata": {},
   "source": [
    "# Displaying image"
   ]
  },
  {
   "cell_type": "code",
   "execution_count": 10,
   "id": "94f360f8",
   "metadata": {},
   "outputs": [],
   "source": [
    "cv2.imshow('image1',alpha_chanel) # arg1- name for the window, agr2-variable that has real image\n",
    "cv2.imshow('image2', color_image)\n",
    "cv2.imshow('image3', gray_scale)\n",
    "\n",
    "# waitKey() method is used to specify how much time does the window should be showed - if its 0 then it waits until we close manually\n",
    "cv2.waitKey(5000)\n",
    "\n",
    "# destroyAllWindows() is used to close all the windows\n",
    "cv2.destroyAllWindows()"
   ]
  },
  {
   "cell_type": "markdown",
   "id": "1f36fceb",
   "metadata": {},
   "source": [
    "# Writing a image to file"
   ]
  },
  {
   "cell_type": "code",
   "execution_count": 11,
   "id": "61034afd",
   "metadata": {},
   "outputs": [
    {
     "data": {
      "text/plain": [
       "True"
      ]
     },
     "execution_count": 11,
     "metadata": {},
     "output_type": "execute_result"
    }
   ],
   "source": [
    "# to write image to a file\n",
    "cv2.imwrite('lenna_copy.png', gray_scale) #arg1-file name that you want to give to the image, arg2-image you want to write"
   ]
  },
  {
   "cell_type": "code",
   "execution_count": 14,
   "id": "940fa91a",
   "metadata": {},
   "outputs": [],
   "source": [
    "# check if waitKey is esc(27) or save(s)\n",
    "cv2.imshow('image1',alpha_chanel)\n",
    "k=cv2.waitKey(0)\n",
    "if k==27:\n",
    "    cv2.destroyAllWindows()\n",
    "elif k==ord('s'):\n",
    "    cv2.imwrite('lenna_copy.png', alpha_chanel)\n",
    "    cv2.destroyAllWindows()\n",
    "    "
   ]
  }
 ],
 "metadata": {
  "kernelspec": {
   "display_name": "Python 3",
   "language": "python",
   "name": "python3"
  },
  "language_info": {
   "codemirror_mode": {
    "name": "ipython",
    "version": 3
   },
   "file_extension": ".py",
   "mimetype": "text/x-python",
   "name": "python",
   "nbconvert_exporter": "python",
   "pygments_lexer": "ipython3",
   "version": "3.8.8"
  }
 },
 "nbformat": 4,
 "nbformat_minor": 5
}
