{
 "cells": [
  {
   "cell_type": "code",
   "execution_count": 2,
   "id": "6eac1ea9",
   "metadata": {},
   "outputs": [],
   "source": [
    "import cv2"
   ]
  },
  {
   "cell_type": "markdown",
   "id": "ee566d5e",
   "metadata": {},
   "source": [
    "# Caputring live stream from camera "
   ]
  },
  {
   "cell_type": "code",
   "execution_count": 12,
   "id": "03234152",
   "metadata": {},
   "outputs": [],
   "source": [
    "#device_index = 0 (default Camera) or we can provide video already saved as .mp4 as arg\n",
    "cap=cv2.VideoCapture(0)\n",
    "\n",
    "#to capture frames continously -condition for while is set True\n",
    "while(True):\n",
    "    \n",
    "    #if the frame is available read() method returns True (stored in ret) and frame variable captures frame\n",
    "    ret, frame=cap.read()\n",
    "    \n",
    "    cv2.imshow('frame', frame)\n",
    "\n",
    "    #waitKey(0)-will wait infintely for you to spress any key,\n",
    "    #waitKey(1)-will wait for only 1ms for you to press key if not pressed it will continue to refresh\n",
    "    if cv2.waitKey(1000)==ord('q'):  \n",
    "        break\n",
    "\n",
    "cap.release()\n",
    "cv2.destroyAllWindows()"
   ]
  },
  {
   "cell_type": "markdown",
   "id": "3a9b2707",
   "metadata": {},
   "source": [
    "# Capturing live stream from camera as gray scale"
   ]
  },
  {
   "cell_type": "code",
   "execution_count": 17,
   "id": "87040502",
   "metadata": {},
   "outputs": [],
   "source": [
    "cap=cv2.VideoCapture(0)\n",
    "\n",
    "while(True):\n",
    "    ret, frame=cap.read()\n",
    "    grayScaleVideo=cv2.cvtColor(frame, cv2.COLOR_BGR2GRAY)\n",
    "    cv2.imshow('Video', grayScaleVideo)\n",
    "    if cv2.waitKey(1)==ord('q'):\n",
    "        break\n",
    "cap.release()\n",
    "cv2.destroyAllWindows()\n",
    "    "
   ]
  },
  {
   "cell_type": "code",
   "execution_count": 18,
   "id": "2b4e59de",
   "metadata": {},
   "outputs": [
    {
     "data": {
      "text/plain": [
       "False"
      ]
     },
     "execution_count": 18,
     "metadata": {},
     "output_type": "execute_result"
    }
   ],
   "source": [
    "# isOpened() method returns True if the resource is accesses, esle return False\n",
    "cap.isOpened()"
   ]
  },
  {
   "cell_type": "code",
   "execution_count": 25,
   "id": "7c6e3f96",
   "metadata": {},
   "outputs": [
    {
     "name": "stdout",
     "output_type": "stream",
     "text": [
      "640.0\n",
      "480.0\n"
     ]
    }
   ],
   "source": [
    "cap=cv2.VideoCapture(0)\n",
    "\n",
    "while(True):\n",
    "    ret, frame=cap.read()\n",
    "    grayScaleVideo=cv2.cvtColor(frame, cv2.COLOR_BGR2GRAY)\n",
    "    cv2.imshow('Video', grayScaleVideo)\n",
    "    if cv2.waitKey(1)==ord('q'):\n",
    "        break\n",
    "print(cap.get(cv2.CAP_PROP_FRAME_WIDTH))#width of the video stream\n",
    "print(cap.get(cv2.CAP_PROP_FRAME_HEIGHT))#height of the video stream\n",
    "cap.release()\n",
    "cv2.destroyAllWindows()\n",
    "    "
   ]
  },
  {
   "cell_type": "markdown",
   "id": "1a6f9552",
   "metadata": {},
   "source": [
    "# Saving images from the video"
   ]
  },
  {
   "cell_type": "code",
   "execution_count": 32,
   "id": "ebf87b11",
   "metadata": {},
   "outputs": [],
   "source": [
    "cap=cv2.VideoCapture(0)\n",
    "\n",
    "# fourcc is a four byte code used to specify the video codec\n",
    "fourcc=cv2.VideoWriter_fourcc('X','V','I','D')\n",
    "\n",
    "# VideoWriter takes four arguments:\n",
    "#     1.name of the output file\n",
    "#     2.fourcc code\n",
    "#     3.number of frames per second\n",
    "#     5.size of the frame \n",
    "\n",
    "out=cv2.VideoWriter('output.avi',fourcc, 20.0, (640, 480))\n",
    "\n",
    "\n",
    "while(True):\n",
    "    ret, frame=cap.read()\n",
    "    if ret==True:\n",
    "        out.write(frame)\n",
    "        grayScaleVideo=cv2.cvtColor(frame, cv2.COLOR_BGR2GRAY)\n",
    "        cv2.imshow('Video', grayScaleVideo)\n",
    "        if cv2.waitKey(1)==ord('q'):\n",
    "            break\n",
    "    else:\n",
    "        break\n",
    "# here output.avi will be in BGR because we are writing it before converting it to the grayscale\n",
    "cap.release()\n",
    "out.release()\n",
    "cv2.destroyAllWindows()\n",
    "    "
   ]
  }
 ],
 "metadata": {
  "kernelspec": {
   "display_name": "Python 3",
   "language": "python",
   "name": "python3"
  },
  "language_info": {
   "codemirror_mode": {
    "name": "ipython",
    "version": 3
   },
   "file_extension": ".py",
   "mimetype": "text/x-python",
   "name": "python",
   "nbconvert_exporter": "python",
   "pygments_lexer": "ipython3",
   "version": "3.8.8"
  }
 },
 "nbformat": 4,
 "nbformat_minor": 5
}
