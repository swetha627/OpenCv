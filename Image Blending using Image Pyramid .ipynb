{
 "cells": [
  {
   "cell_type": "code",
   "execution_count": 2,
   "id": "0e91ba1f",
   "metadata": {},
   "outputs": [],
   "source": [
    "import cv2\n",
    "import numpy as np"
   ]
  },
  {
   "cell_type": "code",
   "execution_count": 6,
   "id": "1a28c75a",
   "metadata": {},
   "outputs": [],
   "source": [
    "apple=cv2.imread('apple.jpg')\n",
    "orange=cv2.imread('orange.jpg')\n",
    "\n",
    "apple_orange=np.hstack((apple[:,:256], orange[:,256:]))\n",
    "cv2.imshow('apple_orange', apple_orange)\n",
    "\n",
    "cv2.waitKey(0)\n",
    "cv2.destroyAllWindows()"
   ]
  },
  {
   "cell_type": "markdown",
   "id": "ce2a2615",
   "metadata": {},
   "source": [
    "## To clearly blend apple_orange image follow five steps\n",
    "        load two images\n",
    "        find gaussian pyramid for apple and orange\n",
    "        from gaussian pyramid ,find their laplacian pyramid\n",
    "        now join left half of the apple and orange in all levels of laplacian pyramid\n",
    "        finally from this joint images pyramid reconstruct the original image"
   ]
  },
  {
   "cell_type": "code",
   "execution_count": 7,
   "id": "6afba6bd",
   "metadata": {},
   "outputs": [],
   "source": [
    "apple=cv2.imread('apple.jpg')\n",
    "orange=cv2.imread('orange.jpg')\n",
    "\n",
    "apple_orange=np.hstack((apple[:,:256], orange[:,256:]))\n",
    "\n",
    "# generate gaussian pyramid\n",
    "apple_copy=apple.copy()\n",
    "gp_apple=[apple_copy]\n",
    "\n",
    "for i in range(6):\n",
    "    apple_copy=cv2.pyrDown(apple_copy)\n",
    "    gp_apple.append(apple_copy)\n",
    "\n",
    "orange_copy=orange.copy()\n",
    "gp_orange=[orange_copy]\n",
    "\n",
    "for i in range(6):\n",
    "    orange_copy=cv2.pyrDown(orange_copy)\n",
    "    gp_orange.append(orange_copy)\n",
    "    \n",
    "\n",
    "# generate laplacian pyramid\n",
    "# a level in laplacian pyramid is formed by difference between that level and its extended version in gaussian pyramid\n",
    "apple_copy=gp_apple[5]\n",
    "\n",
    "lp_apple=[apple_copy]\n",
    "for i in range(5,0,-1):\n",
    "    gau_extended=cv2.pyrUp(gp_apple[i])\n",
    "    laplacian =cv2.subtract(gp_apple[i-1], gau_extended)\n",
    "    lp_apple.append(laplacian)\n",
    "\n",
    "orange_copy=gp_orange[5]\n",
    "\n",
    "lp_orange=[orange_copy]\n",
    "for i in range(5,0,-1):\n",
    "    gau_extended=cv2.pyrUp(gp_orange[i])\n",
    "    laplacian =cv2.subtract(gp_orange[i-1], gau_extended)\n",
    "    lp_orange.append(laplacian)\n",
    "\n",
    "\n",
    "\n",
    "# now join half of apple and orange from their laplace pyramids\n",
    "apple_orange_pyramid=[]\n",
    "n=0\n",
    "for apple_lap, orange_lap in zip(lp_apple, lp_orange):\n",
    "    n+=1\n",
    "    cols, rows, ch =apple_lap.shape\n",
    "    laplacian=np.hstack((apple_lap[:,0:int(cols//2)], orange_lap[:,int(cols//2):]))\n",
    "    apple_orange_pyramid.append(laplacian)\n",
    "    \n",
    "    \n",
    "#now reconstruct\n",
    "apple_orange_reconstruct=apple_orange_pyramid[0]\n",
    "for i in range(1,6):\n",
    "    apple_orange_reconstruct=cv2.pyrUp(apple_orange_reconstruct)\n",
    "    apple_orange_reconstruct=cv2.add(apple_orange_pyramid[i],apple_orange_reconstruct)\n",
    "    \n",
    "    \n",
    "cv2.imshow('apple_orange_reconstruct', apple_orange_reconstruct)\n",
    "\n",
    "\n",
    "cv2.waitKey(0)\n",
    "cv2.destroyAllWindows()"
   ]
  },
  {
   "cell_type": "markdown",
   "id": "47b1f673",
   "metadata": {},
   "source": [
    "## we can compare the results both apple_orange and apple_orange_reconstruct :\n",
    "## apple_orange_reconstruct- images are blends perfectly"
   ]
  },
  {
   "cell_type": "code",
   "execution_count": null,
   "id": "3db2fefb",
   "metadata": {},
   "outputs": [],
   "source": []
  }
 ],
 "metadata": {
  "kernelspec": {
   "display_name": "Python 3",
   "language": "python",
   "name": "python3"
  },
  "language_info": {
   "codemirror_mode": {
    "name": "ipython",
    "version": 3
   },
   "file_extension": ".py",
   "mimetype": "text/x-python",
   "name": "python",
   "nbconvert_exporter": "python",
   "pygments_lexer": "ipython3",
   "version": "3.8.8"
  }
 },
 "nbformat": 4,
 "nbformat_minor": 5
}
