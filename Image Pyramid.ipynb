{
 "cells": [
  {
   "cell_type": "markdown",
   "id": "06e9db6d",
   "metadata": {},
   "source": [
    "## using image pyramid we can create objects of different resolution and use pyramids to search for objects in other images "
   ]
  },
  {
   "cell_type": "code",
   "execution_count": 1,
   "id": "38d66db9",
   "metadata": {},
   "outputs": [],
   "source": [
    "import cv2\n",
    "import numpy as np"
   ]
  },
  {
   "cell_type": "markdown",
   "id": "6628e85c",
   "metadata": {},
   "source": [
    "## Pyramid or pyramid representation is a type of multiscale-scale signal represenation in which a signal or image is subject to repeated smoothing and subsmapling -giving different resolution"
   ]
  },
  {
   "cell_type": "markdown",
   "id": "b25e02c1",
   "metadata": {},
   "source": [
    "## Two types: \n",
    "### 1.Gaussian pyramid - repeated filtering and up sampling of the image\n",
    "### 2.Laplacian pyramid - there is no specific function for laplacian pyramid in opencv "
   ]
  },
  {
   "cell_type": "code",
   "execution_count": 8,
   "id": "1e15e87f",
   "metadata": {},
   "outputs": [],
   "source": [
    "# gaussian pyramid-pyrDown(), pyrUp()\n",
    "\n",
    "img = cv2.imread(\"lenna.png\")\n",
    "\n",
    "lr1=cv2.pyrDown(img) # reduce the resolution of the image\n",
    "lr2=cv2.pyrDown(lr1)\n",
    "\n",
    "cv2.imshow('image', img)\n",
    "cv2.imshow('lr1', lr1)\n",
    "cv2.imshow('lr2', lr2)\n",
    "\n",
    "\n",
    "cv2.waitKey(0)\n",
    "cv2.destroyAllWindows()"
   ]
  },
  {
   "cell_type": "code",
   "execution_count": 9,
   "id": "47c42457",
   "metadata": {},
   "outputs": [],
   "source": [
    "# pyrUp \n",
    "\n",
    "hr=cv2.pyrUp(lr2) # lower resolution image of lenna is taken\n",
    "# when lower resolution image is passed to the pyrUp method-output will be blurred cuz some info is lost if we perform pyrdown \n",
    "\n",
    "cv2.imshow('higher res', hr)\n",
    "cv2.waitKey(0)\n",
    "cv2.destroyAllWindows()"
   ]
  },
  {
   "cell_type": "code",
   "execution_count": 12,
   "id": "c070b879",
   "metadata": {},
   "outputs": [],
   "source": [
    "# using for loop instead of using pyrUp and pyrDown everytime\n",
    "\n",
    "img=cv2.imread('lenna.png')\n",
    "layer=img.copy()\n",
    "gau_pyr=[img]\n",
    "\n",
    "for i in range(6):\n",
    "    layer=cv2.pyrDown(layer)\n",
    "    gau_pyr.append(layer)\n",
    "    cv2.imshow(str(i), layer)\n",
    "\n",
    "cv2.imshow('original image', img)\n",
    "cv2.waitKey(0)\n",
    "cv2.destroyAllWindows()"
   ]
  },
  {
   "cell_type": "markdown",
   "id": "7eebaa89",
   "metadata": {},
   "source": [
    "## Laplacian pyramid- A level in Laplacian pyramid is formed by the difference that level in Gaussian pyramid  and expanded version of its upper level in gaussain pyramid"
   ]
  },
  {
   "cell_type": "markdown",
   "id": "77ef92fd",
   "metadata": {},
   "source": [
    "## laplacian pyramid - detects edges  "
   ]
  },
  {
   "cell_type": "code",
   "execution_count": 13,
   "id": "8e89cc42",
   "metadata": {},
   "outputs": [],
   "source": [
    "# using for loop instead of using pyrUp and pyrDown everytime\n",
    "\n",
    "img=cv2.imread('lenna.png')\n",
    "layer=img.copy()\n",
    "gau_pyr=[layer]\n",
    "\n",
    "for i in range(6):\n",
    "    layer=cv2.pyrDown(layer)\n",
    "    gau_pyr.append(layer)\n",
    "   #cv2.imshow(str(i), layer)\n",
    "    \n",
    "layer=gau_pyr[-1] # get the last image of gaussian pyramid\n",
    "cv2.imshow('upper_level[gau_pyr]', layer)\n",
    "lap_pyr=[layer]\n",
    "\n",
    "for i in range(5,0,-1):\n",
    "    gau_extended=cv2.pyrUp(gau_pyr[i])\n",
    "    laplacian=cv2.subtract(gau_pyr[i-1], gau_extended)\n",
    "    cv2.imshow(str(i), laplacian)\n",
    "\n",
    "cv2.imshow('original image', img)\n",
    "cv2.waitKey(0)\n",
    "cv2.destroyAllWindows()"
   ]
  },
  {
   "cell_type": "code",
   "execution_count": null,
   "id": "7ab01a96",
   "metadata": {},
   "outputs": [],
   "source": []
  }
 ],
 "metadata": {
  "kernelspec": {
   "display_name": "Python 3",
   "language": "python",
   "name": "python3"
  },
  "language_info": {
   "codemirror_mode": {
    "name": "ipython",
    "version": 3
   },
   "file_extension": ".py",
   "mimetype": "text/x-python",
   "name": "python",
   "nbconvert_exporter": "python",
   "pygments_lexer": "ipython3",
   "version": "3.8.8"
  }
 },
 "nbformat": 4,
 "nbformat_minor": 5
}
