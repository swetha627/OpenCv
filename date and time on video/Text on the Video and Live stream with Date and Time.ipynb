{
 "cells": [
  {
   "cell_type": "markdown",
   "id": "27137d00",
   "metadata": {},
   "source": [
    "# Width, Height of the Frame are displayed on the video"
   ]
  },
  {
   "cell_type": "code",
   "execution_count": null,
   "id": "ce736764",
   "metadata": {},
   "outputs": [],
   "source": [
    "import cv2\n",
    "\n",
    "cap=cv2.VideoCapture(0)\n",
    "\n",
    "while(True):\n",
    "    ret, frame=cap.read()\n",
    "    font=cv2.FONT_HERSHEY_SIMPLEX\n",
    "    text='Width: '+str(cap.get(3))+' Height: '+str(cap.get(4))\n",
    "    frame=cv2.putText(frame,text,(10, 50),font, 1, (255,0, 0), 4, cv2.LINE_AA)\n",
    "    cv2.imshow('frame', frame)\n",
    "    if cv2.waitKey(1)==ord('q'):\n",
    "        break\n",
    "cap.release()\n",
    "cv2.destroyAllWindows()\n",
    "    "
   ]
  },
  {
   "cell_type": "markdown",
   "id": "d8fc37b1",
   "metadata": {},
   "source": [
    "# displaying Date and Time on the video"
   ]
  },
  {
   "cell_type": "code",
   "execution_count": 8,
   "id": "92f05818",
   "metadata": {},
   "outputs": [],
   "source": [
    "import cv2\n",
    "import datetime #import this library\n",
    "\n",
    "cap=cv2.VideoCapture(0)\n",
    "\n",
    "while(True):\n",
    "    ret, frame=cap.read()\n",
    "    font=cv2.FONT_HERSHEY_SIMPLEX\n",
    "    \n",
    "    datet=str(datetime.datetime.now()) #use this function to get date and time\n",
    "    frame=cv2.putText(frame,datet,(10, 50),font, 1, (255,0, 0), 4, cv2.LINE_AA)\n",
    "    \n",
    "    cv2.imshow('frame', frame)\n",
    "    if cv2.waitKey(1)==ord('q'):\n",
    "        break\n",
    "cap.release()\n",
    "cv2.destroyAllWindows()\n",
    "    "
   ]
  }
 ],
 "metadata": {
  "kernelspec": {
   "display_name": "Python 3",
   "language": "python",
   "name": "python3"
  },
  "language_info": {
   "codemirror_mode": {
    "name": "ipython",
    "version": 3
   },
   "file_extension": ".py",
   "mimetype": "text/x-python",
   "name": "python",
   "nbconvert_exporter": "python",
   "pygments_lexer": "ipython3",
   "version": "3.8.8"
  }
 },
 "nbformat": 4,
 "nbformat_minor": 5
}
